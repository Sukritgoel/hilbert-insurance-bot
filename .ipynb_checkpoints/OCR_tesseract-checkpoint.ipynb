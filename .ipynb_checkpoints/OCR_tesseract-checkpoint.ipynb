{
 "cells": [
  {
   "cell_type": "code",
   "execution_count": 12,
   "metadata": {
    "collapsed": false
   },
   "outputs": [],
   "source": [
    "from PIL import Image as pi\n",
    "from wand.image import Image\n",
    "import sys\n",
    "import pyocr\n",
    "import pyocr.builders\n",
    "import io"
   ]
  },
  {
   "cell_type": "code",
   "execution_count": 68,
   "metadata": {
    "collapsed": false
   },
   "outputs": [
    {
     "name": "stdout",
     "output_type": "stream",
     "text": [
      "Available languages: chi_sim, chi_tra, eng\n",
      "Will use lang 'eng'\n"
     ]
    }
   ],
   "source": [
    "tool = pyocr.get_available_tools()[0]\n",
    "langs = tool.get_available_languages()\n",
    "print(\"Available languages: %s\" % \", \".join(langs))\n",
    "lang = langs[2]\n",
    "print(\"Will use lang '%s'\" % (lang)) \n",
    "img_pdf = Image(filename=\"Statement_11-29-2015.pdf\", resolution=300)\n",
    "img_jpg = img_pdf.convert('jpeg')\n",
    "\n",
    "req_image = []\n",
    "for img in img_jpg.sequence:\n",
    "    img_page = Image(image=img)\n",
    "    req_image.append(img_page.make_blob('jpeg'))"
   ]
  },
  {
   "cell_type": "code",
   "execution_count": 70,
   "metadata": {
    "collapsed": false
   },
   "outputs": [],
   "source": [
    "final_txt = []\n",
    "for img in req_image:\n",
    "    txt = tool.image_to_string(\n",
    "        pi.open(io.BytesIO(img)),\n",
    "        lang=lang,\n",
    "        builder=pyocr.builders.TextBuilder()\n",
    "    )\n",
    "    final_txt.append(txt)"
   ]
  },
  {
   "cell_type": "code",
   "execution_count": 72,
   "metadata": {
    "collapsed": false
   },
   "outputs": [
    {
     "name": "stdout",
     "output_type": "stream",
     "text": [
      "Page 2 of 2\n",
      "\n",
      "Account Details\n",
      "\n",
      "  \n",
      " \n",
      "\n",
      "Date Description Charges Pmts/Adjs Insurance Patient\n",
      "Balance Balance\n",
      "Patient: Yunqing Hu Acct#: 56662567\n",
      "Visit Type: Outpatient Status Due Upon Receipt\n",
      "11/13/2015 LABORATORY - GENERAL CLASSIFICATION $500.00\n",
      "CONTRACTUAL ADJ - UNITED H $—306.35\n",
      "Totals $500.00 $-306.35 $0.00 $193.65\n",
      "Patient Balance $0.00 $193.65\n",
      "Patient: Yunqing Hu Acct#: 56662573\n",
      "Visit Type: Outpatient Status Due Upon Receipt\n",
      "11/13/2015 CARDIOLOGY - GENERAL CLASSIFICATION $7,754.00\n",
      "HB INSURANCE LOCKBOX PMT - UNITED H $—3,114.34\n",
      "CONTRACTUAL ADJ - UNITED H $—3,389.27\n",
      "Totals $7,754.00 $-6,503.61 $0.00 $1,250.39\n",
      "Patient Balance $0.00 $1,250.39\n",
      "\n",
      "Balance Due $1 444.04\n"
     ]
    }
   ],
   "source": [
    "print final_txt[1]"
   ]
  }
 ],
 "metadata": {
  "anaconda-cloud": {},
  "kernelspec": {
   "display_name": "Python [default]",
   "language": "python",
   "name": "python2"
  },
  "language_info": {
   "codemirror_mode": {
    "name": "ipython",
    "version": 2
   },
   "file_extension": ".py",
   "mimetype": "text/x-python",
   "name": "python",
   "nbconvert_exporter": "python",
   "pygments_lexer": "ipython2",
   "version": "2.7.12"
  }
 },
 "nbformat": 4,
 "nbformat_minor": 1
}
